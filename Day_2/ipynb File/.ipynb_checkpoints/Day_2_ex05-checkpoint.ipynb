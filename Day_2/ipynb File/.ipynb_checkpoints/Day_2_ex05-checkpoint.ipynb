{
 "cells": [
  {
   "cell_type": "code",
   "execution_count": 1,
   "metadata": {},
   "outputs": [],
   "source": [
    "import tensorflow as tf"
   ]
  },
  {
   "cell_type": "code",
   "execution_count": 2,
   "metadata": {},
   "outputs": [],
   "source": [
    "import numpy as np"
   ]
  },
  {
   "cell_type": "code",
   "execution_count": 3,
   "metadata": {},
   "outputs": [],
   "source": [
    "tf.set_random_seed(777)"
   ]
  },
  {
   "cell_type": "code",
   "execution_count": 5,
   "metadata": {},
   "outputs": [],
   "source": [
    "x_data = np.array([[0, 0], [0, 1], [1, 0], [1, 1]], dtype=np.float32)\n",
    "y_data = np.array([[0], [1], [1], [0]], dtype=np.float32)"
   ]
  },
  {
   "cell_type": "code",
   "execution_count": 6,
   "metadata": {},
   "outputs": [],
   "source": [
    "X = tf.placeholder(tf.float32, [None, 2])\n",
    "Y = tf.placeholder(tf.float32, [None, 1])"
   ]
  },
  {
   "cell_type": "code",
   "execution_count": 7,
   "metadata": {},
   "outputs": [],
   "source": [
    "W1 = tf.Variable(tf.random_normal([2, 2], name='weight1'))\n",
    "b1 = tf.Variable(tf.random_normal([2], name='bias1'))\n",
    "layer1 = tf.sigmoid(tf.matmul(X, W1) + b1)\n",
    "\n",
    "W2 = tf.Variable(tf.random_normal([2, 1], name='weight2'))\n",
    "b2 = tf.Variable(tf.random_normal([1], name='bias2'))\n",
    "hypothesis = tf.sigmoid(tf.matmul(layer1, W2) + b2)"
   ]
  },
  {
   "cell_type": "code",
   "execution_count": 8,
   "metadata": {},
   "outputs": [],
   "source": [
    "cost = -tf.reduce_mean(Y * tf.log(hypothesis) + (1 - Y) * tf.log(1 - hypothesis))\n",
    "train = tf.train.GradientDescentOptimizer(learning_rate=0.1).minimize(cost)"
   ]
  },
  {
   "cell_type": "code",
   "execution_count": 9,
   "metadata": {},
   "outputs": [],
   "source": [
    "predicted = tf.cast(hypothesis > 0.5, dtype=tf.float32)\n",
    "accuracy = tf.reduce_mean(tf.cast(tf.equal(predicted, Y), dtype=tf.float32))"
   ]
  },
  {
   "cell_type": "code",
   "execution_count": 13,
   "metadata": {},
   "outputs": [
    {
     "name": "stdout",
     "output_type": "stream",
     "text": [
      "0 0.75844026\n",
      "100 0.69586563\n",
      "200 0.69405544\n",
      "300 0.69245243\n",
      "400 0.6908216\n",
      "500 0.68899894\n",
      "600 0.68683594\n",
      "700 0.6841758\n",
      "800 0.68083966\n",
      "900 0.67662054\n",
      "1000 0.67128885\n",
      "1100 0.6646102\n",
      "1200 0.6563796\n",
      "1300 0.6464642\n",
      "1400 0.63484216\n",
      "1500 0.6216096\n",
      "1600 0.60693777\n",
      "1700 0.5909777\n",
      "1800 0.57374084\n",
      "1900 0.5549872\n",
      "2000 0.53415734\n",
      "2100 0.51038057\n",
      "2200 0.48264116\n",
      "2300 0.45019007\n",
      "2400 0.41314065\n",
      "2500 0.3728638\n",
      "2600 0.33173388\n",
      "2700 0.29228622\n",
      "2800 0.25639695\n",
      "2900 0.22497259\n",
      "3000 0.19811317\n",
      "3100 0.17544389\n",
      "3200 0.15639651\n",
      "3300 0.14037839\n",
      "3400 0.12685248\n",
      "3500 0.11536375\n",
      "3600 0.105539374\n",
      "3700 0.09707885\n",
      "3800 0.08974171\n",
      "3900 0.08333551\n",
      "4000 0.07770604\n",
      "4100 0.07272898\n",
      "4200 0.068303704\n",
      "4300 0.06434825\n",
      "4400 0.060795233\n",
      "4500 0.057589114\n",
      "4600 0.054683562\n",
      "4700 0.05204004\n",
      "4800 0.049625978\n",
      "4900 0.047413893\n",
      "5000 0.045380328\n",
      "5100 0.043505263\n",
      "5200 0.041771397\n",
      "5300 0.040163934\n",
      "5400 0.038669955\n",
      "5500 0.037278183\n",
      "5600 0.035978757\n",
      "5700 0.034763113\n",
      "5800 0.033623453\n",
      "5900 0.032553196\n",
      "6000 0.031546336\n",
      "6100 0.030597445\n",
      "6200 0.029701915\n",
      "6300 0.028855335\n",
      "6400 0.02805395\n",
      "6500 0.027294345\n",
      "6600 0.026573366\n",
      "6700 0.025888195\n",
      "6800 0.025236338\n",
      "6900 0.024615414\n",
      "7000 0.024023302\n",
      "7100 0.023458168\n",
      "7200 0.022918181\n",
      "7300 0.022401728\n",
      "7400 0.0219073\n",
      "7500 0.021433666\n",
      "7600 0.020979475\n",
      "7700 0.02054355\n",
      "7800 0.020124856\n",
      "7900 0.019722428\n",
      "8000 0.019335365\n",
      "8100 0.01896281\n",
      "8200 0.018603895\n",
      "8300 0.018258026\n",
      "8400 0.017924387\n",
      "8500 0.017602446\n",
      "8600 0.01729157\n",
      "8700 0.016991202\n",
      "8800 0.01670086\n",
      "8900 0.016419994\n",
      "9000 0.016148243\n",
      "9100 0.015885085\n",
      "9200 0.015630193\n",
      "9300 0.015383138\n",
      "9400 0.015143612\n",
      "9500 0.01491129\n",
      "9600 0.014685788\n",
      "9700 0.014466876\n",
      "9800 0.014254216\n",
      "9900 0.014047606\n",
      "10000 0.013846771\n",
      "\n",
      "Hypothesis:\n",
      "[[0.01338217]\n",
      " [0.9816639 ]\n",
      " [0.9880941 ]\n",
      " [0.01135799]] \n",
      "Predicted:\n",
      "[[0.]\n",
      " [1.]\n",
      " [1.]\n",
      " [0.]] \n",
      "Accuracy:\n",
      "1.0\n"
     ]
    }
   ],
   "source": [
    "with tf.Session() as sess:\n",
    "    sess.run(tf.global_variables_initializer())\n",
    "    \n",
    "    for step in range(10001):\n",
    "        _, cost_val = sess.run([train, cost], feed_dict={X: x_data, Y: y_data})\n",
    "        \n",
    "        if step % 100 == 0:\n",
    "            print(step, cost_val)\n",
    "            \n",
    "    h, p, a = sess.run(\n",
    "        [hypothesis, predicted, accuracy], feed_dict={X: x_data, Y: y_data}\n",
    "    )\n",
    "    \n",
    "    print(f\"\\nHypothesis:\\n{h} \\nPredicted:\\n{p} \\nAccuracy:\\n{a}\")"
   ]
  },
  {
   "cell_type": "code",
   "execution_count": null,
   "metadata": {},
   "outputs": [],
   "source": []
  }
 ],
 "metadata": {
  "kernelspec": {
   "display_name": "Python 3",
   "language": "python",
   "name": "python3"
  },
  "language_info": {
   "codemirror_mode": {
    "name": "ipython",
    "version": 3
   },
   "file_extension": ".py",
   "mimetype": "text/x-python",
   "name": "python",
   "nbconvert_exporter": "python",
   "pygments_lexer": "ipython3",
   "version": "3.7.6"
  }
 },
 "nbformat": 4,
 "nbformat_minor": 4
}
